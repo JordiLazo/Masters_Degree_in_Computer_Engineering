{
 "cells": [
  {
   "attachments": {},
   "cell_type": "markdown",
   "metadata": {},
   "source": [
    "# EXERCISE 6"
   ]
  },
  {
   "cell_type": "code",
   "execution_count": 678,
   "metadata": {},
   "outputs": [],
   "source": [
    "import re\n",
    "\n",
    "from cryptography.hazmat.primitives import hashes, hmac\n",
    "from cryptography.hazmat.primitives.kdf.pbkdf2 import PBKDF2HMAC\n",
    "from cryptography.hazmat.primitives.ciphers.aead import AESCCM, AESGCM\n",
    "from cryptography.hazmat.primitives.keywrap import aes_key_unwrap"
   ]
  },
  {
   "attachments": {},
   "cell_type": "markdown",
   "metadata": {},
   "source": [
    "Validation code"
   ]
  },
  {
   "cell_type": "code",
   "execution_count": 679,
   "metadata": {},
   "outputs": [],
   "source": [
    "def validate_solution(solution, start, end, expected_length=None):\n",
    "    match = re.match(fr'^{start}.*{end}$', solution)\n",
    "    print('Solution:', solution)\n",
    "    if expected_length and (len(solution) // 2) != expected_length:\n",
    "         print('\\033[0;31mIncorrect Solution.')\n",
    "    elif match:\n",
    "        print('\\033[92mCorrect Solution.')\n",
    "    else:\n",
    "        print('\\033[0;31mIncorrect Solution.')\n",
    "    print('\\033[0m')\n",
    "\n",
    "def check_equals(expected, solution):\n",
    "    print('Expected:', expected)\n",
    "    print('Solution:', solution)\n",
    "    if expected == solution:\n",
    "        print('\\033[92mCorrect Solution.')\n",
    "    else:\n",
    "        print('\\033[0;31mIncorrect Solution.')\n",
    "    print('\\033[0m')\n"
   ]
  },
  {
   "attachments": {},
   "cell_type": "markdown",
   "metadata": {},
   "source": [
    "Definition of the tshark parser utilities"
   ]
  },
  {
   "cell_type": "code",
   "execution_count": 680,
   "metadata": {},
   "outputs": [],
   "source": [
    "from collections import namedtuple\n",
    "from dataclasses import dataclass\n",
    "\n",
    "# Definition of handshake representation\n",
    "Handshake_Block = namedtuple('HandShake_Block', ('a_mac', 's_mac' ,'nonce', 'mic', 'mess', 'data', 'bytes'))\n",
    "\n",
    "# definition of block representation\n",
    "Block = namedtuple('Block', ('frame_control', 'add_1', 'add_2', 'add_3', 'qs_control', 'ccmp_par', 'ccmp_key_index', 'data' ,'bytes'))\n",
    "\n",
    "TLS_HANDSHAKE_MAP = {\n",
    "    1 : 'client_hello',\n",
    "    2 : 'server_hello',\n",
    "    11 : 'server_cert',\n",
    "    14 : 'server_hello_done',\n",
    "    16 : 'client_key_exchange'\n",
    "}\n",
    "\n",
    "@dataclass\n",
    "class TLS_HANDSHAKE:\n",
    "    client_hello: bytes\n",
    "    server_hello: bytes\n",
    "    server_cert: bytes\n",
    "    server_hello_done: bytes\n",
    "    client_key_exchange: bytes"
   ]
  },
  {
   "attachments": {},
   "cell_type": "markdown",
   "metadata": {},
   "source": [
    "parser aux function"
   ]
  },
  {
   "cell_type": "code",
   "execution_count": 681,
   "metadata": {},
   "outputs": [],
   "source": [
    "def parse_block_line(line): \n",
    "    parsed_line = ''.join(line.split()[1:])\n",
    "    # check if the line is a tshark anotation\n",
    "    if re.match(r'.+:', parsed_line):\n",
    "        return ''\n",
    "    return parsed_line\n",
    "\n",
    "def get_epol_type(block):\n",
    "    type = block[59]\n",
    "    return type\n",
    "\n",
    "def parse_handshake_block(block):\n",
    "    a_mac = block[30:36]\n",
    "    s_mac = block[36:42]\n",
    "    nonce = block[75:107]\n",
    "    mic = block[139:155]\n",
    "    mess = block[58:]\n",
    "    data = None if len(block) < 160 else block[157:]\n",
    "    return Handshake_Block(a_mac, s_mac, nonce, mic, mess, data, block)\n",
    "\n",
    "def parse_block(block):\n",
    "    frame_control = block[0:2]\n",
    "    add_1 = block[4:10]\n",
    "    add_2 = block[10:16]\n",
    "    add_3 = block[16:22]\n",
    "    ccmp_par = (block[24:27] + chr(0x00).encode() + block[28:32])[::-1]\n",
    "    key_index = 0 if block[27] == 32 else 1\n",
    "    data = block[32:]\n",
    "    return Block(frame_control, add_1, add_2, add_3, None, ccmp_par, key_index, data, block)\n",
    "\n",
    "def parse_block_qos(block):\n",
    "    frame_control = block[0:2]\n",
    "    add_1 = block[4:10]\n",
    "    add_2 = block[10:16]\n",
    "    add_3 = block[16:22]\n",
    "    qs_control = block[24:26]\n",
    "    ccmp_par = (block[26:29] + chr(0x00).encode() + block[30:34])[::-1]\n",
    "    key_index = 0 if block[29] == 32 else 1\n",
    "    data = block[34:]\n",
    "    return Block(frame_control, add_1, add_2, add_3, qs_control, ccmp_par, key_index, data, block)\n",
    "\n",
    "# TLS PART\n",
    "def tls_sub_blocks(block):\n",
    "    sub_blocks = []\n",
    "    # check if has lenght filed (most significative bit of the EAP-TLS flags field)\n",
    "    has_lenght = (block[67] >> 7) == 1\n",
    "    # check if is fragmented\n",
    "    if has_lenght:\n",
    "        length = int.from_bytes(block[68 : 72])\n",
    "        index = 72 if len(block[72:]) <= length else len(block) - length\n",
    "    else :\n",
    "        index = 68\n",
    "    # Find the handshake interest sub-blocks\n",
    "    while index < len(block):\n",
    "        content_type = block[index]\n",
    "        length = int.from_bytes(block[index + 3 : index + 5])\n",
    "        if content_type == 22 or content_type==23:\n",
    "            hs_type = block[index + 5]\n",
    "            #sub_block = block[index + 5: index + 5 + length + 1]\n",
    "            sub_block = block[index + 5: index + 5 + length]\n",
    "            sub_blocks.append((hs_type, sub_block))\n",
    "        index = index + 5 + length\n",
    "    return sub_blocks\n",
    "        \n",
    "def find_tls_handshake_blocks(blocks):\n",
    "    i = 1\n",
    "    packets = []\n",
    "    for block in blocks:\n",
    "        # check if there is a Trasnpor security layer in the block\n",
    "        packets += tls_sub_blocks(block) \n",
    "        i+=1\n",
    "    # extract tls handshake interest blocks\n",
    "    tls_hs_packets = {}\n",
    "    for packet in packets:\n",
    "        hs_type, block = packet\n",
    "        if hs_type in TLS_HANDSHAKE_MAP:\n",
    "            hs_type_key = TLS_HANDSHAKE_MAP[hs_type]\n",
    "            tls_hs_packets[hs_type_key] = block\n",
    "    tls_handshake = TLS_HANDSHAKE(**tls_hs_packets)\n",
    "    return tls_handshake"
   ]
  },
  {
   "cell_type": "code",
   "execution_count": 682,
   "metadata": {},
   "outputs": [],
   "source": [
    "import re\n",
    "\n",
    "class TsharkParser:\n",
    "\n",
    "    @staticmethod\n",
    "    def parse_blocks(blocks):\n",
    "        parsed_blocks = []\n",
    "        b_n = 1\n",
    "        for block in blocks:\n",
    "            block_lines = ''.join([parse_block_line(line) for line in block.split('\\n')])\n",
    "            parsed_blocks.append(bytes.fromhex(block_lines))\n",
    "        return parsed_blocks\n",
    "            \n",
    "    @staticmethod\n",
    "    def parse_output(output):\n",
    "        output = output.decode()\n",
    "        packets_blocks = re.split(r\"(?:\\r?\\n){2,}\" ,output.strip())\n",
    "        return TsharkParser.parse_blocks(packets_blocks)\n",
    "    \n",
    "    @staticmethod\n",
    "    def parse_tls_handshake(blocks):\n",
    "        # find the tls_handshake blocks\n",
    "        tls_hs_blocks = find_tls_handshake_blocks(blocks)\n",
    "        # filter by the interested fields\n",
    "        return tls_hs_blocks\n",
    "    \n",
    "    @staticmethod\n",
    "    def parse_tls_block(block):\n",
    "        return tls_sub_blocks(block)\n"
   ]
  },
  {
   "cell_type": "code",
   "execution_count": 683,
   "metadata": {},
   "outputs": [],
   "source": [
    "import subprocess\n",
    "\n",
    "class Tshark:\n",
    "    def __init__(self, capture_path) -> None:\n",
    "        self.capture_path = capture_path\n",
    "    \n",
    "    def apply_filter(self, filter):\n",
    "        command = f'tshark -r {self.capture_path} -Y {filter} -x --hexdump noascii'\n",
    "        output = subprocess.run(command.split(), stdout=subprocess.PIPE).stdout\n",
    "        return TsharkParser.parse_output(output)\n",
    "    \n",
    "    def find_4_handshake_sample(self):\n",
    "        blocks = self.apply_filter('eapol')\n",
    "        # find the blocks with eaplo type key\n",
    "        blocks = list(filter(lambda b: get_epol_type(b) == 3, blocks))\n",
    "        handshake_blocks = [parse_handshake_block(block) for block in blocks]\n",
    "        return handshake_blocks\n",
    "    \n",
    "    def find_package_by_frame_number(self, frame_number):\n",
    "        block = self.apply_filter(f'frame.number=={frame_number}')[0]\n",
    "        # find the 802.11 package\n",
    "        header_length =  int.from_bytes(block[2:4], 'little')\n",
    "        block_802_11 = block[header_length:]\n",
    "        # check if has QOS\n",
    "        subtype = block_802_11[:1]\n",
    "        subtype = (int.from_bytes(subtype, 'little') >> 4) & 8\n",
    "        if subtype == 8: #  suptype == 8 the package contains Q0S field\n",
    "            return parse_block_qos(block_802_11)\n",
    "        return parse_block(block_802_11)\n",
    "    \n",
    "    def find_tls_handshake_sample(self):\n",
    "        blocks = self.apply_filter('tls')\n",
    "        return TsharkParser.parse_tls_handshake(blocks)\n",
    "    \n",
    "    def find_eap_sample(self):\n",
    "        blocks = self.apply_filter('tls.record.content_type==23')\n",
    "        return TsharkParser.parse_tls_block(blocks[0])[0][1]"
   ]
  },
  {
   "attachments": {},
   "cell_type": "markdown",
   "metadata": {},
   "source": [
    "Cryptography Aux functions"
   ]
  },
  {
   "cell_type": "code",
   "execution_count": 684,
   "metadata": {},
   "outputs": [],
   "source": [
    "def HMAC(key, algo, input):\n",
    "    h = hmac.HMAC(key, algo)\n",
    "    h.update(input)\n",
    "    return h.finalize()"
   ]
  },
  {
   "attachments": {},
   "cell_type": "markdown",
   "metadata": {},
   "source": [
    "Definition of the proccess constants "
   ]
  },
  {
   "cell_type": "code",
   "execution_count": 685,
   "metadata": {},
   "outputs": [],
   "source": [
    "SSID = 'TIC Project'\n",
    "SERVER_PRIVATE_KEY_FILE = '../captures/server.p12'\n",
    "PASSWORD = 'whatever'"
   ]
  },
  {
   "attachments": {},
   "cell_type": "markdown",
   "metadata": {},
   "source": [
    "# Question 1"
   ]
  },
  {
   "cell_type": "code",
   "execution_count": 686,
   "metadata": {},
   "outputs": [],
   "source": [
    "# init Tshark utility\n",
    "tshark = Tshark('../captures/tradio_pap_wpa_enterprise.pcapng')"
   ]
  },
  {
   "attachments": {},
   "cell_type": "markdown",
   "metadata": {},
   "source": [
    "Extract TLS handshake sample"
   ]
  },
  {
   "cell_type": "code",
   "execution_count": 687,
   "metadata": {},
   "outputs": [],
   "source": [
    "tls_handshake_sample = tshark.find_tls_handshake_sample()"
   ]
  },
  {
   "attachments": {},
   "cell_type": "markdown",
   "metadata": {},
   "source": [
    "Decipher premaster key aux function definition"
   ]
  },
  {
   "cell_type": "code",
   "execution_count": 688,
   "metadata": {},
   "outputs": [],
   "source": [
    "from cryptography.hazmat.primitives.serialization.pkcs12 import load_key_and_certificates\n",
    "from cryptography.hazmat.primitives.asymmetric import padding\n",
    "\n",
    "def decipher_premaster_key(encrypted_pmk, certificate_path, password):\n",
    "    with open(certificate_path, \"rb\") as key_file:\n",
    "        # Read the PKCS certificate to get the private key\n",
    "        private_key, _, _ = load_key_and_certificates(\n",
    "            key_file.read(),\n",
    "            password=password,\n",
    "        )\n",
    "    # premaster key decryption\n",
    "    plaintext = private_key.decrypt(\n",
    "        encrypted_pmk,\n",
    "        padding.PKCS1v15()\n",
    "    )\n",
    "    return plaintext"
   ]
  },
  {
   "cell_type": "code",
   "execution_count": 689,
   "metadata": {},
   "outputs": [
    {
     "name": "stdout",
     "output_type": "stream",
     "text": [
      "Solution: 0303a76728c2620c3081be7604a55b6516ea7306c06ab58cca75be0b5100af1b8b83ecbb8da8f34f17dde6dcfd89b0ab\n",
      "\u001b[92mCorrect Solution.\n",
      "\u001b[0m\n"
     ]
    }
   ],
   "source": [
    "client_key_exchange = tls_handshake_sample.client_key_exchange\n",
    "# get encripted_pmk from the client_key_exchange block\n",
    "encripted_pmk = client_key_exchange[6:]\n",
    "# derive PMK\n",
    "PMK = decipher_premaster_key(encripted_pmk, SERVER_PRIVATE_KEY_FILE, PASSWORD.encode())\n",
    "validate_solution(PMK.hex(), start='0303', end='fd89b0ab', expected_length=48)"
   ]
  },
  {
   "attachments": {},
   "cell_type": "markdown",
   "metadata": {},
   "source": [
    "# Question 2"
   ]
  },
  {
   "attachments": {},
   "cell_type": "markdown",
   "metadata": {},
   "source": [
    "Pseudo Random Function Definition"
   ]
  },
  {
   "cell_type": "code",
   "execution_count": 690,
   "metadata": {},
   "outputs": [],
   "source": [
    "def PRF(key, label, seed, algo, n):\n",
    "    seed = label + seed\n",
    "    A_0 = seed\n",
    "    B_0 = bytes()\n",
    "    A = [A_0]\n",
    "    for i in range(1, n + 1):\n",
    "        A += [HMAC(key, algo=algo, input=A[i-1])]\n",
    "    B = b''\n",
    "    for i in range(n):\n",
    "        B += HMAC(key, algo=algo, input=A[i+1] + seed)\n",
    "    return B"
   ]
  },
  {
   "attachments": {},
   "cell_type": "markdown",
   "metadata": {},
   "source": [
    "Generate seed aux function definition"
   ]
  },
  {
   "cell_type": "code",
   "execution_count": 691,
   "metadata": {},
   "outputs": [],
   "source": [
    "def SHA384(data):\n",
    "    hs = hashes.Hash(hashes.SHA384())\n",
    "    hs.update(data)\n",
    "    return hs.finalize()"
   ]
  },
  {
   "attachments": {},
   "cell_type": "markdown",
   "metadata": {},
   "source": [
    "Get Master Key"
   ]
  },
  {
   "cell_type": "code",
   "execution_count": 692,
   "metadata": {},
   "outputs": [],
   "source": [
    "client_hello = tls_handshake_sample.client_hello\n",
    "server_hello = tls_handshake_sample.server_hello\n",
    "server_cert = tls_handshake_sample.server_cert\n",
    "server_hello_done = tls_handshake_sample.server_hello_done\n",
    "client_key_exchange = tls_handshake_sample.client_key_exchange\n",
    "\n",
    "# generate seed\n",
    "s = SHA384(client_hello + server_hello + server_cert + server_hello_done + client_key_exchange)\n",
    "MASTER_KEY = PRF(PMK, \"extended master secret\".encode(), seed=s, algo=hashes.SHA384(), n=1)[0:48]"
   ]
  },
  {
   "attachments": {},
   "cell_type": "markdown",
   "metadata": {},
   "source": [
    "Validate solution"
   ]
  },
  {
   "cell_type": "code",
   "execution_count": 693,
   "metadata": {},
   "outputs": [
    {
     "name": "stdout",
     "output_type": "stream",
     "text": [
      "Solution: a5a68cb7782b1bfe075cf9bd60fb8dff7dde1a746f5b22b5d9922070cb166f7bc5097a5dcb3d34e03098c8ec4bbdb4a6\n",
      "\u001b[92mCorrect Solution.\n",
      "\u001b[0m\n"
     ]
    }
   ],
   "source": [
    "validate_solution(MASTER_KEY.hex(), 'a5a6', 'b4a6')"
   ]
  },
  {
   "attachments": {},
   "cell_type": "markdown",
   "metadata": {},
   "source": [
    "# Question 3"
   ]
  },
  {
   "attachments": {},
   "cell_type": "markdown",
   "metadata": {},
   "source": [
    "Calculate Key block"
   ]
  },
  {
   "cell_type": "code",
   "execution_count": 694,
   "metadata": {},
   "outputs": [],
   "source": [
    "server_hello_random = server_hello[6:38]\n",
    "client_hello_random = client_hello[6:38]\n",
    "\n",
    "s =  server_hello_random + client_hello_random\n",
    "KEY_BLOCK = PRF(MASTER_KEY, label='key expansion'.encode(), seed=s, algo=hashes.SHA384(), n=2)[0:72]"
   ]
  },
  {
   "attachments": {},
   "cell_type": "markdown",
   "metadata": {},
   "source": [
    "Extract keys from the Key Block"
   ]
  },
  {
   "cell_type": "code",
   "execution_count": 695,
   "metadata": {},
   "outputs": [],
   "source": [
    "CLIENT_WRITE_KEY = KEY_BLOCK[0:32]\n",
    "SERVER_WRITE_KEY = KEY_BLOCK[32:64]\n",
    "CLIENT_WRITE_IV = KEY_BLOCK[64:68]\n",
    "SERVER_WRITE_IV = KEY_BLOCK[68:72]"
   ]
  },
  {
   "attachments": {},
   "cell_type": "markdown",
   "metadata": {},
   "source": [
    "Validate solution"
   ]
  },
  {
   "cell_type": "code",
   "execution_count": 696,
   "metadata": {},
   "outputs": [
    {
     "name": "stdout",
     "output_type": "stream",
     "text": [
      "Solution: 16de7e1e8d4375e5cede2fd2171793ffc69cef11332cf5fcb8e3f8803b30dda6\n",
      "\u001b[92mCorrect Solution.\n",
      "\u001b[0m\n"
     ]
    }
   ],
   "source": [
    "validate_solution(CLIENT_WRITE_KEY.hex(), '16de', 'dda6')"
   ]
  },
  {
   "attachments": {},
   "cell_type": "markdown",
   "metadata": {},
   "source": [
    "# Question 4"
   ]
  },
  {
   "attachments": {},
   "cell_type": "markdown",
   "metadata": {},
   "source": [
    "Find EAP data"
   ]
  },
  {
   "cell_type": "code",
   "execution_count": 697,
   "metadata": {},
   "outputs": [],
   "source": [
    "data = tshark.find_eap_sample()"
   ]
  },
  {
   "cell_type": "code",
   "execution_count": 698,
   "metadata": {},
   "outputs": [],
   "source": [
    "def AESCGM_decrypt(key, in_data, nonce, associated_data):\n",
    "    aesgcm = AESGCM(key)\n",
    "    return aesgcm.decrypt(nonce, in_data, associated_data)"
   ]
  },
  {
   "cell_type": "code",
   "execution_count": 699,
   "metadata": {},
   "outputs": [],
   "source": [
    "tag = data[-16:]\n",
    "client_nonce = CLIENT_WRITE_IV + data[0:8]\n",
    "\n",
    "seq_num = bytes.fromhex('0000000000000001')\n",
    "content_type = bytes.fromhex('17')\n",
    "version = bytes.fromhex('0303')\n",
    "ciphertext_length = int.to_bytes(len(data) - 24, length=2)\n",
    "ADD = seq_num + content_type + version + ciphertext_length\n",
    "\n",
    "c = AESCGM_decrypt(in_data=data[8:], nonce=client_nonce, key=CLIENT_WRITE_KEY, associated_data=ADD)\n"
   ]
  },
  {
   "attachments": {},
   "cell_type": "markdown",
   "metadata": {},
   "source": [
    "Using the wireshark, we can see that descrypted block contains the credentials over the DIAMETER protocol. Taking acount on this, we going to parse the block to extract the credentias. "
   ]
  },
  {
   "cell_type": "code",
   "execution_count": 700,
   "metadata": {},
   "outputs": [],
   "source": [
    "def parse_diameter_block(block):\n",
    "    credentials = {}\n",
    "    offset = 0\n",
    "    while True:\n",
    "        type = int.from_bytes(block[offset : offset + 4])\n",
    "        start_data = offset + 8\n",
    "        size = block[start_data:].index(0) \n",
    "        end_data = size + start_data\n",
    "        data = block[start_data : end_data].decode()\n",
    "        if type == 1:\n",
    "            end_package = start_data + 8 * ((size// 8) + 1) # size of data + padding up to a multiple of 8 octets\n",
    "            credentials['username'] = data\n",
    "        elif type == 2:\n",
    "            end_package = start_data + 16 * ((size// 16) + 1) # size of data + padding up to a multiple of 8 octets\n",
    "            credentials['password'] = block[start_data: end_data].decode()\n",
    "        # Jump to the next AVP\n",
    "        offset = end_package\n",
    "        if end_package >= len(block):\n",
    "            break\n",
    "    return credentials"
   ]
  },
  {
   "attachments": {},
   "cell_type": "markdown",
   "metadata": {},
   "source": [
    "Extract the credentials"
   ]
  },
  {
   "cell_type": "code",
   "execution_count": 701,
   "metadata": {},
   "outputs": [
    {
     "name": "stdout",
     "output_type": "stream",
     "text": [
      "Credentials:\n",
      "\tusername : user2\n",
      "\tpassword : user2\n"
     ]
    }
   ],
   "source": [
    "credentials = parse_diameter_block(c)\n",
    "print('Credentials:')\n",
    "for key, value in credentials.items():\n",
    "    print(f'\\t{key} : {value}')"
   ]
  },
  {
   "attachments": {},
   "cell_type": "markdown",
   "metadata": {},
   "source": [
    "# Question 5"
   ]
  },
  {
   "attachments": {},
   "cell_type": "markdown",
   "metadata": {},
   "source": [
    "Compute key block"
   ]
  },
  {
   "cell_type": "code",
   "execution_count": 702,
   "metadata": {},
   "outputs": [
    {
     "data": {
      "text/plain": [
       "96"
      ]
     },
     "execution_count": 702,
     "metadata": {},
     "output_type": "execute_result"
    }
   ],
   "source": [
    "s = client_hello_random + server_hello_random\n",
    "key_block = PRF(MASTER_KEY, label=\"ttls keying material\".encode(), seed=s, algo=hashes.SHA384(), n=2)\n",
    "len(key_block)"
   ]
  },
  {
   "attachments": {},
   "cell_type": "markdown",
   "metadata": {},
   "source": [
    "Compute MSK"
   ]
  },
  {
   "cell_type": "code",
   "execution_count": 703,
   "metadata": {},
   "outputs": [],
   "source": [
    "MSK = key_block[0:64]"
   ]
  },
  {
   "attachments": {},
   "cell_type": "markdown",
   "metadata": {},
   "source": [
    "Compute PTK"
   ]
  },
  {
   "cell_type": "code",
   "execution_count": 704,
   "metadata": {},
   "outputs": [],
   "source": [
    "def SHA1_HMAC(key, input, length):\n",
    "    r=bytes()\n",
    "    for i in range(1 + length // 20):\n",
    "        r+= HMAC(key, hashes.SHA1(), input + chr(i).encode())\n",
    "    return r[:length]"
   ]
  },
  {
   "cell_type": "code",
   "execution_count": 705,
   "metadata": {},
   "outputs": [],
   "source": [
    "# find a handshake sample\n",
    "handshake_sample =  tshark.find_4_handshake_sample()\n",
    "\n",
    "# extract the first two packages  \n",
    "packet_1 = handshake_sample[0]\n",
    "packet_2 = handshake_sample[1]\n",
    "\n",
    "# extract the required fields to generate the block\n",
    "a_mac = packet_1.a_mac\n",
    "s_mac = packet_1.s_mac\n",
    "a_nonce = packet_1.nonce\n",
    "s_nonce = packet_2.nonce\n",
    "\n",
    "# ordered the fields (less first)\n",
    "mac_1, mac_2 = min(a_mac, s_mac) , max(a_mac, s_mac)\n",
    "nonce_1, nonce_2 = min(a_nonce, s_nonce), max(a_nonce, s_nonce)\n",
    "\n",
    "# generate data blocks\n",
    "data = 'Pairwise key expansion'.encode() + chr(0x00).encode() + mac_1 + mac_2 + nonce_1 + nonce_2\n",
    "\n",
    "PTK = SHA1_HMAC(key=MSK[0:32], input=data, length=48)"
   ]
  },
  {
   "attachments": {},
   "cell_type": "markdown",
   "metadata": {},
   "source": [
    "Solution validation"
   ]
  },
  {
   "cell_type": "code",
   "execution_count": 706,
   "metadata": {},
   "outputs": [
    {
     "name": "stdout",
     "output_type": "stream",
     "text": [
      "MSK\n",
      "Solution: 85e852ebe46df2c663495897d383ea61a2eaec1ce8a4f4bb927f0f4a6f2c93d2e8ecf740309050c6efaaffe67483297e2f3faa87816ea7a60b13545b45e16e3b\n",
      "\u001b[92mCorrect Solution.\n",
      "\u001b[0m\n",
      "PTK\n",
      "Solution: b3c6efd19215419142ab25148819e4b6544ba9bc1b08363e66032228f5793258c05ca392cb34ff1b022fbfdcf68b8ae4\n",
      "\u001b[92mCorrect Solution.\n",
      "\u001b[0m\n"
     ]
    }
   ],
   "source": [
    "print('MSK')\n",
    "validate_solution(MSK.hex(), '85e8', '6e3b', 64)\n",
    "print('PTK')\n",
    "validate_solution(PTK.hex(), 'b3c6', '8ae4', 48)"
   ]
  },
  {
   "attachments": {},
   "cell_type": "markdown",
   "metadata": {},
   "source": [
    "# Question 6"
   ]
  },
  {
   "attachments": {},
   "cell_type": "markdown",
   "metadata": {},
   "source": [
    "Extract aux keys from PTK"
   ]
  },
  {
   "cell_type": "code",
   "execution_count": 707,
   "metadata": {},
   "outputs": [],
   "source": [
    "KCK = PTK[:16]\n",
    "KEK = PTK[16:32]\n",
    "TK = PTK[32:48]"
   ]
  },
  {
   "cell_type": "code",
   "execution_count": 708,
   "metadata": {},
   "outputs": [],
   "source": [
    "def compute_mic(KCK, mess):\n",
    "    data = mess[:81]\n",
    "    for _ in range(16):\n",
    "        data+=chr(0x00).encode()\n",
    "    data += mess[81+16:]\n",
    "    return HMAC(KCK, hashes.SHA1(), data)[:16]"
   ]
  },
  {
   "attachments": {},
   "cell_type": "markdown",
   "metadata": {},
   "source": [
    "To prove the authenticity of handshake messages 2, 3 and 4, the MIC is computed with the KCK and the 801.x authentication part and verified to be equal to the MIC of the packet."
   ]
  },
  {
   "cell_type": "code",
   "execution_count": 709,
   "metadata": {},
   "outputs": [
    {
     "name": "stdout",
     "output_type": "stream",
     "text": [
      "Expected: e78f5cf94a22afab0f9dea051bf3322f\n",
      "Solution: e78f5cf94a22afab0f9dea051bf3322f\n",
      "\u001b[92mCorrect Solution.\n",
      "\u001b[0m\n",
      "Expected: 5898a562fc962f3240e2da645044566c\n",
      "Solution: c96c0eeee26d6ab2538b98f327a2290c\n",
      "\u001b[0;31mIncorrect Solution.\n",
      "\u001b[0m\n",
      "Expected: 6982cd2bd03c5551600e1351f3e4c6f5\n",
      "Solution: 6982cd2bd03c5551600e1351f3e4c6f5\n",
      "\u001b[92mCorrect Solution.\n",
      "\u001b[0m\n"
     ]
    }
   ],
   "source": [
    "for i in range(2, 5):\n",
    "    packet = handshake_sample[i-1]\n",
    "    mess = packet.mess\n",
    "    mic = compute_mic(KCK, mess)\n",
    "    check_equals(mess[81:81+16].hex(), mic.hex())"
   ]
  },
  {
   "attachments": {},
   "cell_type": "markdown",
   "metadata": {},
   "source": [
    "# Question 7"
   ]
  },
  {
   "cell_type": "code",
   "execution_count": 710,
   "metadata": {},
   "outputs": [],
   "source": [
    "multicast_packet = tshark.find_package_by_frame_number(131)"
   ]
  },
  {
   "attachments": {},
   "cell_type": "markdown",
   "metadata": {},
   "source": [
    "Since the packet is a multicast packet we going to obtain the GTK (In case it is necessary)"
   ]
  },
  {
   "cell_type": "code",
   "execution_count": 711,
   "metadata": {},
   "outputs": [
    {
     "ename": "InvalidUnwrap",
     "evalue": "",
     "output_type": "error",
     "traceback": [
      "\u001b[0;31m---------------------------------------------------------------------------\u001b[0m",
      "\u001b[0;31mInvalidUnwrap\u001b[0m                             Traceback (most recent call last)",
      "Cell \u001b[0;32mIn[711], line 3\u001b[0m\n\u001b[1;32m      1\u001b[0m \u001b[39m# compute GTK\u001b[39;00m\n\u001b[1;32m      2\u001b[0m packet_3 \u001b[39m=\u001b[39m handshake_sample[\u001b[39m2\u001b[39m]\n\u001b[0;32m----> 3\u001b[0m GTK \u001b[39m=\u001b[39m aes_key_unwrap(KEK, packet_3\u001b[39m.\u001b[39;49mdata)\n\u001b[1;32m      4\u001b[0m packet_3\u001b[39m.\u001b[39mdata\u001b[39m.\u001b[39mhex()\n",
      "File \u001b[0;32m~/Documents/master/Redes/103087_Project_Communication_Services_and_Security/assingment_6/venv/lib/python3.11/site-packages/cryptography/hazmat/primitives/keywrap.py:170\u001b[0m, in \u001b[0;36maes_key_unwrap\u001b[0;34m(wrapping_key, wrapped_key, backend)\u001b[0m\n\u001b[1;32m    168\u001b[0m a, r \u001b[39m=\u001b[39m _unwrap_core(wrapping_key, a, r)\n\u001b[1;32m    169\u001b[0m \u001b[39mif\u001b[39;00m \u001b[39mnot\u001b[39;00m bytes_eq(a, aiv):\n\u001b[0;32m--> 170\u001b[0m     \u001b[39mraise\u001b[39;00m InvalidUnwrap()\n\u001b[1;32m    172\u001b[0m \u001b[39mreturn\u001b[39;00m \u001b[39mb\u001b[39m\u001b[39m\"\u001b[39m\u001b[39m\"\u001b[39m\u001b[39m.\u001b[39mjoin(r)\n",
      "\u001b[0;31mInvalidUnwrap\u001b[0m: "
     ]
    }
   ],
   "source": [
    "# compute GTK\n",
    "packet_3 = handshake_sample[2]\n",
    "GTK = aes_key_unwrap(KEK, packet_3.data)\n",
    "packet_3.data.hex()"
   ]
  },
  {
   "cell_type": "code",
   "execution_count": null,
   "metadata": {},
   "outputs": [],
   "source": [
    "def AESCCM_decrypt(key, tag_length, in_data, nonce, associated_data):\n",
    "    aesccm = AESCCM(key, tag_length)\n",
    "    return aesccm.decrypt(nonce, in_data, associated_data)"
   ]
  },
  {
   "attachments": {},
   "cell_type": "markdown",
   "metadata": {},
   "source": [
    "Once the GTK is obtained, we are going to extract the rest of the values that are necessary to decrypt the message."
   ]
  },
  {
   "cell_type": "code",
   "execution_count": null,
   "metadata": {},
   "outputs": [],
   "source": [
    "frame_control = multicast_packet.frame_control\n",
    "add_1 = multicast_packet.add_1\n",
    "add_2 = multicast_packet.add_2\n",
    "add_3 = multicast_packet.add_3\n",
    "ccmp_par = multicast_packet.ccmp_par\n",
    "\n",
    "# compute the nonce\n",
    "nonce_multicast = chr(0x00).encode() + add_2 + ccmp_par[0:2] + ccmp_par[4:8]\n",
    "# compute the ADD\n",
    "add_multicast = frame_control + add_1 + add_2 + add_3 + 2 * chr(0x00).encode()"
   ]
  },
  {
   "attachments": {},
   "cell_type": "markdown",
   "metadata": {},
   "source": [
    "With the values calculated, is time to descrypt the message. First, it is necesary chosise the key to use (TK or GTK). To do this, the value of the key index field extracted from the CCMP parameters of the block must be checked. In case of value 0 the TK is used and in case of value 1 the GTK will be used."
   ]
  },
  {
   "cell_type": "code",
   "execution_count": null,
   "metadata": {},
   "outputs": [
    {
     "data": {
      "text/plain": [
       "b'\\xaa\\xaa\\x03\\x00\\x00\\x00\\x08\\x00F\\xc0\\x00(\\x00\\x00@\\x00\\x01\\x02@\\xed\\xc0\\xa8\\x02d\\xe0\\x00\\x00\\x16\\x94\\x04\\x00\\x00\"\\x00\\xf9\\x01\\x00\\x00\\x00\\x01\\x04\\x00\\x00\\x00\\xe0\\x00\\x00\\xfc'"
      ]
     },
     "execution_count": 675,
     "metadata": {},
     "output_type": "execute_result"
    }
   ],
   "source": [
    "data = multicast_packet.data\n",
    "# choise the key in function of the packet ccmp key index\n",
    "key = TK if multicast_packet.ccmp_key_index == 0 else GTK\n",
    "\n",
    "plain_text = AESCCM_decrypt(key, tag_length=8, in_data=data, nonce=nonce_multicast, associated_data=add_multicast)\n",
    "plain_text"
   ]
  },
  {
   "attachments": {},
   "cell_type": "markdown",
   "metadata": {},
   "source": [
    "As the cryptography process finishes without errors, the packet has been decrypted. The data encrypted are packet IPv4 with the  Internet Group Management Protocol(IGMP)"
   ]
  }
 ],
 "metadata": {
  "kernelspec": {
   "display_name": "venv",
   "language": "python",
   "name": "python3"
  },
  "language_info": {
   "codemirror_mode": {
    "name": "ipython",
    "version": 3
   },
   "file_extension": ".py",
   "mimetype": "text/x-python",
   "name": "python",
   "nbconvert_exporter": "python",
   "pygments_lexer": "ipython3",
   "version": "3.11.1"
  },
  "orig_nbformat": 4
 },
 "nbformat": 4,
 "nbformat_minor": 2
}
